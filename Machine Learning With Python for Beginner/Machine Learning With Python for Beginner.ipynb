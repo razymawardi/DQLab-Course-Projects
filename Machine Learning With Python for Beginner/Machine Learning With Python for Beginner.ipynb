{
 "cells": [
  {
   "cell_type": "markdown",
   "metadata": {},
   "source": [
    "# Pengenalan Machine Learning"
   ]
  },
  {
   "cell_type": "markdown",
   "metadata": {},
   "source": [
    "*Apa itu Machine Learning?*\n",
    "\n",
    "Machine Learning adalah teknik dimana komputer dapat mengekstraksi atau mempelajari pola dari suatu data, kemudian dengan pola yang telah dipelajari dari data historis, komputer mampu mengenali dan memprediksi trend, hasil atau kejadian di masa mendatang atau dari observasi baru tanpa perlu diprogram secara eksplisit. Contoh paling sederhana dari machine learning adalah penggunaan spam filtering yang memungkinkan perusahaan seperti Google, Yahoo, Hotmail, Microsoft dan perusahaan penyedia lainnya secara otomatis memfilter pesan spam.\n",
    "\n",
    "Selain mengenali email sebagai spam atau bukan spam, ada banyak contoh penggunaan machine learning lainnya, seperti memprediksi harga saham, pengenalan wajah (face recognition), mengenali tulisan tangan, mendeteksi fraud/scam kartu kredit, memprediksi cuaca, dan memprediksi permintaan barang.\n",
    "\n",
    "Sebenarnya, semua yang telah disebutkan diatas dapat diselesaikan dengan cara lain, tetapi akan ada begitu banyak rules dan logic yang harus dibuat sehingga tidak fleksibel, serta kompleksitasnya akan sulit untuk dikelola. Terutama untuk data dan variabel yang cukup banyak serta berubah sewaktu-waktu, sangat sulit untuk dimodelkan secara kuantitatif atau matematis."
   ]
  },
  {
   "cell_type": "markdown",
   "metadata": {},
   "source": [
    "## Terminologi Machine Learning"
   ]
  },
  {
   "cell_type": "markdown",
   "metadata": {},
   "source": [
    "Dalam pembuatan model machine learning tentunya dibutuhkan data. Sekumpulan data yang digunakan dalam machine learning disebut DATASET, yang kemudian dibagi/di-split menjadi training dataset dan test dataset.\n",
    "\n",
    "TRAINING DATASET digunakan untuk membuat/melatih model machine learning, sedangkan TEST DATASET digunakan untuk menguji performa/akurasi dari model yang telah dilatih/di-training.\n",
    "\n",
    "Teknik atau pendekatan yang digunakan untuk membangun model disebut ALGORITHM seperti Decision Tree, K-NN, Linear Regression, Random Forest, dsb. dan output atau hasil dari proses melatih algorithm dengan suatu dataset disebut MODEL.\n",
    "\n",
    "Umumnya dataset disajikan dalam bentuk tabel yang terdiri dari baris dan kolom. Bagian Kolom adalah FEATURE atau VARIABEL data yang dianalisa, sedangkan bagian baris adalah DATA POINT/OBSERVATION/EXAMPLE.\n",
    "\n",
    "Hal yang menjadi target prediksi atau hal yang akan diprediksi dalam machine learning disebut LABEL/CLASS/TARGET. Dalam statistika/matematika, LABEL/CLASS/TARGET ini dinamakan dengan Dependent Variabel, dan FEATURE adalah Independent Variabel."
   ]
  },
  {
   "cell_type": "markdown",
   "metadata": {},
   "source": [
    "# Eksplorasi Data & Data Pre-processing"
   ]
  },
  {
   "cell_type": "markdown",
   "metadata": {},
   "source": [
    "## Eksplorasi Data: Memahami Data dengan Statistik - Part 1"
   ]
  },
  {
   "cell_type": "code",
   "execution_count": 1,
   "metadata": {},
   "outputs": [],
   "source": [
    "import pandas as pd\n",
    "import seaborn as sns\n",
    "import matplotlib.pyplot as plt\n",
    "# pd.read_csv('https://dqlab-dataset.s3-ap-southeast-1.amazonaws.com/pythonTutorial/online_raw.csv').to_csv('online_raw.csv')"
   ]
  },
  {
   "cell_type": "code",
   "execution_count": 2,
   "metadata": {},
   "outputs": [
    {
     "name": "stdout",
     "output_type": "stream",
     "text": [
      "\n",
      "Lima data teratas:\n",
      "\n"
     ]
    },
    {
     "data": {
      "text/html": [
       "<div>\n",
       "<style scoped>\n",
       "    .dataframe tbody tr th:only-of-type {\n",
       "        vertical-align: middle;\n",
       "    }\n",
       "\n",
       "    .dataframe tbody tr th {\n",
       "        vertical-align: top;\n",
       "    }\n",
       "\n",
       "    .dataframe thead th {\n",
       "        text-align: right;\n",
       "    }\n",
       "</style>\n",
       "<table border=\"1\" class=\"dataframe\">\n",
       "  <thead>\n",
       "    <tr style=\"text-align: right;\">\n",
       "      <th></th>\n",
       "      <th>Unnamed: 0</th>\n",
       "      <th>Administrative</th>\n",
       "      <th>Administrative_Duration</th>\n",
       "      <th>Informational</th>\n",
       "      <th>Informational_Duration</th>\n",
       "      <th>ProductRelated</th>\n",
       "      <th>ProductRelated_Duration</th>\n",
       "      <th>BounceRates</th>\n",
       "      <th>ExitRates</th>\n",
       "      <th>PageValues</th>\n",
       "      <th>SpecialDay</th>\n",
       "      <th>Month</th>\n",
       "      <th>OperatingSystems</th>\n",
       "      <th>Browser</th>\n",
       "      <th>Region</th>\n",
       "      <th>TrafficType</th>\n",
       "      <th>VisitorType</th>\n",
       "      <th>Weekend</th>\n",
       "      <th>Revenue</th>\n",
       "    </tr>\n",
       "  </thead>\n",
       "  <tbody>\n",
       "    <tr>\n",
       "      <th>0</th>\n",
       "      <td>0</td>\n",
       "      <td>0.0</td>\n",
       "      <td>0.0</td>\n",
       "      <td>0.0</td>\n",
       "      <td>0.0</td>\n",
       "      <td>1.0</td>\n",
       "      <td>0.000000</td>\n",
       "      <td>0.20</td>\n",
       "      <td>0.20</td>\n",
       "      <td>0.0</td>\n",
       "      <td>0.0</td>\n",
       "      <td>Feb</td>\n",
       "      <td>1</td>\n",
       "      <td>1</td>\n",
       "      <td>1</td>\n",
       "      <td>1</td>\n",
       "      <td>Returning_Visitor</td>\n",
       "      <td>False</td>\n",
       "      <td>False</td>\n",
       "    </tr>\n",
       "    <tr>\n",
       "      <th>1</th>\n",
       "      <td>1</td>\n",
       "      <td>0.0</td>\n",
       "      <td>0.0</td>\n",
       "      <td>0.0</td>\n",
       "      <td>0.0</td>\n",
       "      <td>2.0</td>\n",
       "      <td>64.000000</td>\n",
       "      <td>0.00</td>\n",
       "      <td>0.10</td>\n",
       "      <td>0.0</td>\n",
       "      <td>0.0</td>\n",
       "      <td>Feb</td>\n",
       "      <td>2</td>\n",
       "      <td>2</td>\n",
       "      <td>1</td>\n",
       "      <td>2</td>\n",
       "      <td>Returning_Visitor</td>\n",
       "      <td>False</td>\n",
       "      <td>False</td>\n",
       "    </tr>\n",
       "    <tr>\n",
       "      <th>2</th>\n",
       "      <td>2</td>\n",
       "      <td>0.0</td>\n",
       "      <td>-1.0</td>\n",
       "      <td>0.0</td>\n",
       "      <td>-1.0</td>\n",
       "      <td>1.0</td>\n",
       "      <td>-1.000000</td>\n",
       "      <td>0.20</td>\n",
       "      <td>0.20</td>\n",
       "      <td>0.0</td>\n",
       "      <td>0.0</td>\n",
       "      <td>Feb</td>\n",
       "      <td>4</td>\n",
       "      <td>1</td>\n",
       "      <td>9</td>\n",
       "      <td>3</td>\n",
       "      <td>Returning_Visitor</td>\n",
       "      <td>False</td>\n",
       "      <td>False</td>\n",
       "    </tr>\n",
       "    <tr>\n",
       "      <th>3</th>\n",
       "      <td>3</td>\n",
       "      <td>0.0</td>\n",
       "      <td>0.0</td>\n",
       "      <td>0.0</td>\n",
       "      <td>0.0</td>\n",
       "      <td>2.0</td>\n",
       "      <td>2.666667</td>\n",
       "      <td>0.05</td>\n",
       "      <td>0.14</td>\n",
       "      <td>0.0</td>\n",
       "      <td>0.0</td>\n",
       "      <td>Feb</td>\n",
       "      <td>3</td>\n",
       "      <td>2</td>\n",
       "      <td>2</td>\n",
       "      <td>4</td>\n",
       "      <td>Returning_Visitor</td>\n",
       "      <td>False</td>\n",
       "      <td>False</td>\n",
       "    </tr>\n",
       "    <tr>\n",
       "      <th>4</th>\n",
       "      <td>4</td>\n",
       "      <td>0.0</td>\n",
       "      <td>0.0</td>\n",
       "      <td>0.0</td>\n",
       "      <td>0.0</td>\n",
       "      <td>10.0</td>\n",
       "      <td>627.500000</td>\n",
       "      <td>0.02</td>\n",
       "      <td>0.05</td>\n",
       "      <td>0.0</td>\n",
       "      <td>0.0</td>\n",
       "      <td>Feb</td>\n",
       "      <td>3</td>\n",
       "      <td>3</td>\n",
       "      <td>1</td>\n",
       "      <td>4</td>\n",
       "      <td>Returning_Visitor</td>\n",
       "      <td>True</td>\n",
       "      <td>False</td>\n",
       "    </tr>\n",
       "  </tbody>\n",
       "</table>\n",
       "</div>"
      ],
      "text/plain": [
       "   Unnamed: 0  Administrative  Administrative_Duration  Informational  \\\n",
       "0           0             0.0                      0.0            0.0   \n",
       "1           1             0.0                      0.0            0.0   \n",
       "2           2             0.0                     -1.0            0.0   \n",
       "3           3             0.0                      0.0            0.0   \n",
       "4           4             0.0                      0.0            0.0   \n",
       "\n",
       "   Informational_Duration  ProductRelated  ProductRelated_Duration  \\\n",
       "0                     0.0             1.0                 0.000000   \n",
       "1                     0.0             2.0                64.000000   \n",
       "2                    -1.0             1.0                -1.000000   \n",
       "3                     0.0             2.0                 2.666667   \n",
       "4                     0.0            10.0               627.500000   \n",
       "\n",
       "   BounceRates  ExitRates  PageValues  SpecialDay Month  OperatingSystems  \\\n",
       "0         0.20       0.20         0.0         0.0   Feb                 1   \n",
       "1         0.00       0.10         0.0         0.0   Feb                 2   \n",
       "2         0.20       0.20         0.0         0.0   Feb                 4   \n",
       "3         0.05       0.14         0.0         0.0   Feb                 3   \n",
       "4         0.02       0.05         0.0         0.0   Feb                 3   \n",
       "\n",
       "   Browser  Region  TrafficType        VisitorType  Weekend  Revenue  \n",
       "0        1       1            1  Returning_Visitor    False    False  \n",
       "1        2       1            2  Returning_Visitor    False    False  \n",
       "2        1       9            3  Returning_Visitor    False    False  \n",
       "3        2       2            4  Returning_Visitor    False    False  \n",
       "4        3       1            4  Returning_Visitor     True    False  "
      ]
     },
     "execution_count": 2,
     "metadata": {},
     "output_type": "execute_result"
    }
   ],
   "source": [
    "dataset = pd.read_csv('online_raw.csv')\n",
    "print('\\nLima data teratas:\\n')\n",
    "dataset.head()"
   ]
  },
  {
   "cell_type": "code",
   "execution_count": 3,
   "metadata": {},
   "outputs": [
    {
     "name": "stdout",
     "output_type": "stream",
     "text": [
      "Shape dataset: (12330, 19)\n",
      "\n",
      "Informasi dataset:\n",
      "<class 'pandas.core.frame.DataFrame'>\n",
      "RangeIndex: 12330 entries, 0 to 12329\n",
      "Data columns (total 19 columns):\n",
      " #   Column                   Non-Null Count  Dtype  \n",
      "---  ------                   --------------  -----  \n",
      " 0   Unnamed: 0               12330 non-null  int64  \n",
      " 1   Administrative           12316 non-null  float64\n",
      " 2   Administrative_Duration  12316 non-null  float64\n",
      " 3   Informational            12316 non-null  float64\n",
      " 4   Informational_Duration   12316 non-null  float64\n",
      " 5   ProductRelated           12316 non-null  float64\n",
      " 6   ProductRelated_Duration  12316 non-null  float64\n",
      " 7   BounceRates              12316 non-null  float64\n",
      " 8   ExitRates                12316 non-null  float64\n",
      " 9   PageValues               12330 non-null  float64\n",
      " 10  SpecialDay               12330 non-null  float64\n",
      " 11  Month                    12330 non-null  object \n",
      " 12  OperatingSystems         12330 non-null  int64  \n",
      " 13  Browser                  12330 non-null  int64  \n",
      " 14  Region                   12330 non-null  int64  \n",
      " 15  TrafficType              12330 non-null  int64  \n",
      " 16  VisitorType              12330 non-null  object \n",
      " 17  Weekend                  12330 non-null  bool   \n",
      " 18  Revenue                  12330 non-null  bool   \n",
      "dtypes: bool(2), float64(10), int64(5), object(2)\n",
      "memory usage: 1.6+ MB\n",
      "None\n",
      "\n",
      "Statistik deskriptif:\n",
      "\n"
     ]
    },
    {
     "data": {
      "text/html": [
       "<div>\n",
       "<style scoped>\n",
       "    .dataframe tbody tr th:only-of-type {\n",
       "        vertical-align: middle;\n",
       "    }\n",
       "\n",
       "    .dataframe tbody tr th {\n",
       "        vertical-align: top;\n",
       "    }\n",
       "\n",
       "    .dataframe thead th {\n",
       "        text-align: right;\n",
       "    }\n",
       "</style>\n",
       "<table border=\"1\" class=\"dataframe\">\n",
       "  <thead>\n",
       "    <tr style=\"text-align: right;\">\n",
       "      <th></th>\n",
       "      <th>count</th>\n",
       "      <th>mean</th>\n",
       "      <th>std</th>\n",
       "      <th>min</th>\n",
       "      <th>25%</th>\n",
       "      <th>50%</th>\n",
       "      <th>75%</th>\n",
       "      <th>max</th>\n",
       "    </tr>\n",
       "  </thead>\n",
       "  <tbody>\n",
       "    <tr>\n",
       "      <th>Unnamed: 0</th>\n",
       "      <td>12330.0</td>\n",
       "      <td>6164.500000</td>\n",
       "      <td>3559.508744</td>\n",
       "      <td>0.0</td>\n",
       "      <td>3082.250000</td>\n",
       "      <td>6164.500000</td>\n",
       "      <td>9246.750000</td>\n",
       "      <td>12329.000000</td>\n",
       "    </tr>\n",
       "    <tr>\n",
       "      <th>Administrative</th>\n",
       "      <td>12316.0</td>\n",
       "      <td>2.317798</td>\n",
       "      <td>3.322754</td>\n",
       "      <td>0.0</td>\n",
       "      <td>0.000000</td>\n",
       "      <td>1.000000</td>\n",
       "      <td>4.000000</td>\n",
       "      <td>27.000000</td>\n",
       "    </tr>\n",
       "    <tr>\n",
       "      <th>Administrative_Duration</th>\n",
       "      <td>12316.0</td>\n",
       "      <td>80.906176</td>\n",
       "      <td>176.860432</td>\n",
       "      <td>-1.0</td>\n",
       "      <td>0.000000</td>\n",
       "      <td>8.000000</td>\n",
       "      <td>93.500000</td>\n",
       "      <td>3398.750000</td>\n",
       "    </tr>\n",
       "    <tr>\n",
       "      <th>Informational</th>\n",
       "      <td>12316.0</td>\n",
       "      <td>0.503979</td>\n",
       "      <td>1.270701</td>\n",
       "      <td>0.0</td>\n",
       "      <td>0.000000</td>\n",
       "      <td>0.000000</td>\n",
       "      <td>0.000000</td>\n",
       "      <td>24.000000</td>\n",
       "    </tr>\n",
       "    <tr>\n",
       "      <th>Informational_Duration</th>\n",
       "      <td>12316.0</td>\n",
       "      <td>34.506387</td>\n",
       "      <td>140.825479</td>\n",
       "      <td>-1.0</td>\n",
       "      <td>0.000000</td>\n",
       "      <td>0.000000</td>\n",
       "      <td>0.000000</td>\n",
       "      <td>2549.375000</td>\n",
       "    </tr>\n",
       "    <tr>\n",
       "      <th>ProductRelated</th>\n",
       "      <td>12316.0</td>\n",
       "      <td>31.763884</td>\n",
       "      <td>44.490339</td>\n",
       "      <td>0.0</td>\n",
       "      <td>7.000000</td>\n",
       "      <td>18.000000</td>\n",
       "      <td>38.000000</td>\n",
       "      <td>705.000000</td>\n",
       "    </tr>\n",
       "    <tr>\n",
       "      <th>ProductRelated_Duration</th>\n",
       "      <td>12316.0</td>\n",
       "      <td>1196.037057</td>\n",
       "      <td>1914.372511</td>\n",
       "      <td>-1.0</td>\n",
       "      <td>185.000000</td>\n",
       "      <td>599.766190</td>\n",
       "      <td>1466.479902</td>\n",
       "      <td>63973.522230</td>\n",
       "    </tr>\n",
       "    <tr>\n",
       "      <th>BounceRates</th>\n",
       "      <td>12316.0</td>\n",
       "      <td>0.022152</td>\n",
       "      <td>0.048427</td>\n",
       "      <td>0.0</td>\n",
       "      <td>0.000000</td>\n",
       "      <td>0.003119</td>\n",
       "      <td>0.016684</td>\n",
       "      <td>0.200000</td>\n",
       "    </tr>\n",
       "    <tr>\n",
       "      <th>ExitRates</th>\n",
       "      <td>12316.0</td>\n",
       "      <td>0.043003</td>\n",
       "      <td>0.048527</td>\n",
       "      <td>0.0</td>\n",
       "      <td>0.014286</td>\n",
       "      <td>0.025124</td>\n",
       "      <td>0.050000</td>\n",
       "      <td>0.200000</td>\n",
       "    </tr>\n",
       "    <tr>\n",
       "      <th>PageValues</th>\n",
       "      <td>12330.0</td>\n",
       "      <td>5.889258</td>\n",
       "      <td>18.568437</td>\n",
       "      <td>0.0</td>\n",
       "      <td>0.000000</td>\n",
       "      <td>0.000000</td>\n",
       "      <td>0.000000</td>\n",
       "      <td>361.763742</td>\n",
       "    </tr>\n",
       "    <tr>\n",
       "      <th>SpecialDay</th>\n",
       "      <td>12330.0</td>\n",
       "      <td>0.061427</td>\n",
       "      <td>0.198917</td>\n",
       "      <td>0.0</td>\n",
       "      <td>0.000000</td>\n",
       "      <td>0.000000</td>\n",
       "      <td>0.000000</td>\n",
       "      <td>1.000000</td>\n",
       "    </tr>\n",
       "    <tr>\n",
       "      <th>OperatingSystems</th>\n",
       "      <td>12330.0</td>\n",
       "      <td>2.124006</td>\n",
       "      <td>0.911325</td>\n",
       "      <td>1.0</td>\n",
       "      <td>2.000000</td>\n",
       "      <td>2.000000</td>\n",
       "      <td>3.000000</td>\n",
       "      <td>8.000000</td>\n",
       "    </tr>\n",
       "    <tr>\n",
       "      <th>Browser</th>\n",
       "      <td>12330.0</td>\n",
       "      <td>2.357097</td>\n",
       "      <td>1.717277</td>\n",
       "      <td>1.0</td>\n",
       "      <td>2.000000</td>\n",
       "      <td>2.000000</td>\n",
       "      <td>2.000000</td>\n",
       "      <td>13.000000</td>\n",
       "    </tr>\n",
       "    <tr>\n",
       "      <th>Region</th>\n",
       "      <td>12330.0</td>\n",
       "      <td>3.147364</td>\n",
       "      <td>2.401591</td>\n",
       "      <td>1.0</td>\n",
       "      <td>1.000000</td>\n",
       "      <td>3.000000</td>\n",
       "      <td>4.000000</td>\n",
       "      <td>9.000000</td>\n",
       "    </tr>\n",
       "    <tr>\n",
       "      <th>TrafficType</th>\n",
       "      <td>12330.0</td>\n",
       "      <td>4.069586</td>\n",
       "      <td>4.025169</td>\n",
       "      <td>1.0</td>\n",
       "      <td>2.000000</td>\n",
       "      <td>2.000000</td>\n",
       "      <td>4.000000</td>\n",
       "      <td>20.000000</td>\n",
       "    </tr>\n",
       "  </tbody>\n",
       "</table>\n",
       "</div>"
      ],
      "text/plain": [
       "                           count         mean          std  min          25%  \\\n",
       "Unnamed: 0               12330.0  6164.500000  3559.508744  0.0  3082.250000   \n",
       "Administrative           12316.0     2.317798     3.322754  0.0     0.000000   \n",
       "Administrative_Duration  12316.0    80.906176   176.860432 -1.0     0.000000   \n",
       "Informational            12316.0     0.503979     1.270701  0.0     0.000000   \n",
       "Informational_Duration   12316.0    34.506387   140.825479 -1.0     0.000000   \n",
       "ProductRelated           12316.0    31.763884    44.490339  0.0     7.000000   \n",
       "ProductRelated_Duration  12316.0  1196.037057  1914.372511 -1.0   185.000000   \n",
       "BounceRates              12316.0     0.022152     0.048427  0.0     0.000000   \n",
       "ExitRates                12316.0     0.043003     0.048527  0.0     0.014286   \n",
       "PageValues               12330.0     5.889258    18.568437  0.0     0.000000   \n",
       "SpecialDay               12330.0     0.061427     0.198917  0.0     0.000000   \n",
       "OperatingSystems         12330.0     2.124006     0.911325  1.0     2.000000   \n",
       "Browser                  12330.0     2.357097     1.717277  1.0     2.000000   \n",
       "Region                   12330.0     3.147364     2.401591  1.0     1.000000   \n",
       "TrafficType              12330.0     4.069586     4.025169  1.0     2.000000   \n",
       "\n",
       "                                 50%          75%           max  \n",
       "Unnamed: 0               6164.500000  9246.750000  12329.000000  \n",
       "Administrative              1.000000     4.000000     27.000000  \n",
       "Administrative_Duration     8.000000    93.500000   3398.750000  \n",
       "Informational               0.000000     0.000000     24.000000  \n",
       "Informational_Duration      0.000000     0.000000   2549.375000  \n",
       "ProductRelated             18.000000    38.000000    705.000000  \n",
       "ProductRelated_Duration   599.766190  1466.479902  63973.522230  \n",
       "BounceRates                 0.003119     0.016684      0.200000  \n",
       "ExitRates                   0.025124     0.050000      0.200000  \n",
       "PageValues                  0.000000     0.000000    361.763742  \n",
       "SpecialDay                  0.000000     0.000000      1.000000  \n",
       "OperatingSystems            2.000000     3.000000      8.000000  \n",
       "Browser                     2.000000     2.000000     13.000000  \n",
       "Region                      3.000000     4.000000      9.000000  \n",
       "TrafficType                 2.000000     4.000000     20.000000  "
      ]
     },
     "execution_count": 3,
     "metadata": {},
     "output_type": "execute_result"
    }
   ],
   "source": [
    "print('Shape dataset:', dataset.shape)\n",
    "print('\\nInformasi dataset:')\n",
    "print(dataset.info())\n",
    "print('\\nStatistik deskriptif:\\n')\n",
    "dataset.describe().T"
   ]
  },
  {
   "cell_type": "markdown",
   "metadata": {},
   "source": [
    "## Eksplorasi Data: Memahami Data dengan Statistik - Part 2"
   ]
  },
  {
   "cell_type": "markdown",
   "metadata": {},
   "source": [
    "Data eksplorasi tidaklah cukup dengan mengetahui dimensi data dan statistical properties saja, tetapi kita juga perlu sedikit menggali tentang hubungan atau korelasi dari setiap feature, karena beberapa algorithm seperti linear regression dan logistic regression akan menghasilkan model dengan performansi yang buruk jika kita menggunakan feature/variabel saling dependensi atau berkorelasi kuat (multicollinearity). Jadi, jika kita sudah tahu bahwa data kita berkorelasi kuat, kita bisa menggunakan algorithm lain yang tidak sensitif terhadap hubungan korelasi dari feature/variabel seperti decision tree.\n",
    "\n",
    "Sekarang, kita akan melanjutkan eksplorasi data untuk melihat korelasi dan distribusi dataset."
   ]
  },
  {
   "cell_type": "code",
   "execution_count": 4,
   "metadata": {},
   "outputs": [
    {
     "name": "stdout",
     "output_type": "stream",
     "text": [
      "Korelasi dataset:\n",
      "\n"
     ]
    },
    {
     "data": {
      "image/png": "[encoded data removed]",
      "text/plain": [
       "<Figure size 432x288 with 2 Axes>"
      ]
     },
     "metadata": {
      "needs_background": "light"
     },
     "output_type": "display_data"
    }
   ],
   "source": [
    "dataset_corr = dataset.corr()\n",
    "print('Korelasi dataset:\\n')\n",
    "sns.heatmap(dataset.corr(),cmap='RdBu', vmin=-1, vmax=1)\n",
    "\n",
    "plt.show()"
   ]
  },
  {
   "cell_type": "code",
   "execution_count": 5,
   "metadata": {},
   "outputs": [
    {
     "name": "stdout",
     "output_type": "stream",
     "text": [
      "Korelasi dataset:\n",
      "                          Unnamed: 0  Administrative  Administrative_Duration  \\\n",
      "Unnamed: 0                 1.000000        0.077528                 0.042510   \n",
      "Administrative             0.077528        1.000000                 0.601466   \n",
      "Administrative_Duration    0.042510        0.601466                 1.000000   \n",
      "Informational              0.067772        0.376782                 0.302647   \n",
      "Informational_Duration     0.041263        0.255757                 0.237959   \n",
      "ProductRelated             0.170314        0.430832                 0.288869   \n",
      "ProductRelated_Duration    0.146178        0.373647                 0.355238   \n",
      "BounceRates               -0.050027       -0.223474                -0.144128   \n",
      "ExitRates                 -0.072608       -0.316192                -0.205618   \n",
      "PageValues                 0.049522        0.098771                 0.067463   \n",
      "SpecialDay                -0.226455       -0.095054                -0.073472   \n",
      "OperatingSystems           0.044963       -0.006459                -0.007425   \n",
      "Browser                    0.021067       -0.025243                -0.015525   \n",
      "Region                     0.012813       -0.005680                -0.005681   \n",
      "TrafficType                0.060139       -0.033748                -0.014487   \n",
      "Weekend                    0.016175        0.026404                 0.014987   \n",
      "Revenue                    0.121329        0.138631                 0.093395   \n",
      "\n",
      "                         Informational  Informational_Duration  \\\n",
      "Unnamed: 0                    0.067772                0.041263   \n",
      "Administrative                0.376782                0.255757   \n",
      "Administrative_Duration       0.302647                0.237959   \n",
      "Informational                 1.000000                0.618965   \n",
      "Informational_Duration        0.618965                1.000000   \n",
      "ProductRelated                0.374098                0.279966   \n",
      "ProductRelated_Duration       0.387446                0.347300   \n",
      "BounceRates                  -0.116071               -0.074077   \n",
      "ExitRates                    -0.163539               -0.105205   \n",
      "PageValues                    0.048539                0.030787   \n",
      "SpecialDay                   -0.048328               -0.030658   \n",
      "OperatingSystems             -0.009435               -0.009596   \n",
      "Browser                      -0.038257               -0.019346   \n",
      "Region                       -0.029442               -0.027244   \n",
      "TrafficType                  -0.034510               -0.024731   \n",
      "Weekend                       0.035557                0.024054   \n",
      "Revenue                       0.095085                0.070250   \n",
      "\n",
      "                         ProductRelated  ProductRelated_Duration  BounceRates  \\\n",
      "Unnamed: 0                     0.170314                 0.146178    -0.050027   \n",
      "Administrative                 0.430832                 0.373647    -0.223474   \n",
      "Administrative_Duration        0.288869                 0.355238    -0.144128   \n",
      "Informational                  0.374098                 0.387446    -0.116071   \n",
      "Informational_Duration         0.279966                 0.347300    -0.074077   \n",
      "ProductRelated                 1.000000                 0.860868    -0.204469   \n",
      "ProductRelated_Duration        0.860868                 1.000000    -0.184409   \n",
      "BounceRates                   -0.204469                -0.184409     1.000000   \n",
      "ExitRates                     -0.292219                -0.251645     0.913436   \n",
      "PageValues                     0.056067                 0.052623    -0.119357   \n",
      "SpecialDay                    -0.024190                -0.036598     0.073088   \n",
      "OperatingSystems               0.004193                 0.002885     0.023965   \n",
      "Browser                       -0.013326                -0.007549    -0.016009   \n",
      "Region                        -0.038318                -0.033263    -0.006731   \n",
      "TrafficType                   -0.043235                -0.036538     0.078894   \n",
      "Weekend                        0.016097                 0.007293    -0.046870   \n",
      "Revenue                        0.158280                 0.152130    -0.150621   \n",
      "\n",
      "                         ExitRates  PageValues  SpecialDay  OperatingSystems  \\\n",
      "Unnamed: 0               -0.072608    0.049522   -0.226455          0.044963   \n",
      "Administrative           -0.316192    0.098771   -0.095054         -0.006459   \n",
      "Administrative_Duration  -0.205618    0.067463   -0.073472         -0.007425   \n",
      "Informational            -0.163539    0.048539   -0.048328         -0.009435   \n",
      "Informational_Duration   -0.105205    0.030787   -0.030658         -0.009596   \n",
      "ProductRelated           -0.292219    0.056067   -0.024190          0.004193   \n",
      "ProductRelated_Duration  -0.251645    0.052623   -0.036598          0.002885   \n",
      "BounceRates               0.913436   -0.119357    0.073088          0.023965   \n",
      "ExitRates                 1.000000   -0.174397    0.102899          0.014745   \n",
      "PageValues               -0.174397    1.000000   -0.063541          0.018508   \n",
      "SpecialDay                0.102899   -0.063541    1.000000          0.012652   \n",
      "OperatingSystems          0.014745    0.018508    0.012652          1.000000   \n",
      "Browser                  -0.004407    0.045592    0.003499          0.223013   \n",
      "Region                   -0.008836    0.011315   -0.016098          0.076775   \n",
      "TrafficType               0.078998    0.012532    0.052301          0.189154   \n",
      "Weekend                  -0.062942    0.012002   -0.016767          0.000284   \n",
      "Revenue                  -0.206886    0.492569   -0.082305         -0.014668   \n",
      "\n",
      "                          Browser    Region  TrafficType   Weekend   Revenue  \n",
      "Unnamed: 0               0.021067  0.012813     0.060139  0.016175  0.121329  \n",
      "Administrative          -0.025243 -0.005680    -0.033748  0.026404  0.138631  \n",
      "Administrative_Duration -0.015525 -0.005681    -0.014487  0.014987  0.093395  \n",
      "Informational           -0.038257 -0.029442    -0.034510  0.035557  0.095085  \n",
      "Informational_Duration  -0.019346 -0.027244    -0.024731  0.024054  0.070250  \n",
      "ProductRelated          -0.013326 -0.038318    -0.043235  0.016097  0.158280  \n",
      "ProductRelated_Duration -0.007549 -0.033263    -0.036538  0.007293  0.152130  \n",
      "BounceRates             -0.016009 -0.006731     0.078894 -0.046870 -0.150621  \n",
      "ExitRates               -0.004407 -0.008836     0.078998 -0.062942 -0.206886  \n",
      "PageValues               0.045592  0.011315     0.012532  0.012002  0.492569  \n",
      "SpecialDay               0.003499 -0.016098     0.052301 -0.016767 -0.082305  \n",
      "OperatingSystems         0.223013  0.076775     0.189154  0.000284 -0.014668  \n",
      "Browser                  1.000000  0.097393     0.111938 -0.040261  0.023984  \n",
      "Region                   0.097393  1.000000     0.047520 -0.000691 -0.011595  \n",
      "TrafficType              0.111938  0.047520     1.000000 -0.002221 -0.005113  \n",
      "Weekend                 -0.040261 -0.000691    -0.002221  1.000000  0.029295  \n",
      "Revenue                  0.023984 -0.011595    -0.005113  0.029295  1.000000  \n",
      "Distribusi Label (Revenue):\n",
      " False    10422\n",
      "True      1908\n",
      "Name: Revenue, dtype: int64\n"
     ]
    }
   ],
   "source": [
    "dataset_corr = dataset.corr()\n",
    "print('Korelasi dataset:\\n', dataset.corr())\n",
    "print('Distribusi Label (Revenue):\\n', dataset['Revenue'].value_counts())"
   ]
  },
  {
   "cell_type": "code",
   "execution_count": 6,
   "metadata": {
    "scrolled": true
   },
   "outputs": [
    {
     "name": "stdout",
     "output_type": "stream",
     "text": [
      "\n",
      "Korelasi BounceRates-ExitRates: 0.9134364214595944\n",
      "\n",
      "Korelasi Revenue-PageValues: 0.49256929525114634\n",
      "\n",
      "Korelasi TrafficType-Weekend: -0.0022212292430307825\n"
     ]
    }
   ],
   "source": [
    "# Tugas praktek\n",
    "print('\\nKorelasi BounceRates-ExitRates:', dataset_corr.loc['BounceRates', 'ExitRates'])\n",
    "print('\\nKorelasi Revenue-PageValues:', dataset_corr.loc['Revenue', 'PageValues'])\n",
    "print('\\nKorelasi TrafficType-Weekend:', dataset_corr.loc['TrafficType', 'Weekend'])"
   ]
  },
  {
   "cell_type": "markdown",
   "metadata": {},
   "source": [
    "Perlu diperhatikan bahwa mengetahui distribusi label sangatlah penting untuk permasalahan klasifikasi, karena jika distribusi label sangat tidak seimbang (imbalanced class),  maka akan sulit bagi model untuk mempelajari pola dari LABEL yang sedikit dan hasilnya bisa misleading. Contohnya, kita memiliki 100 row data, 90 row adalah non fraud dan 10 row adalah fraud. Jika kita menggunakan data ini tanpa melakukan treatment khusus (handling imbalanced class), maka kemungkinan besar model kita akan cenderung mengenali observasi baru sebagai non-fraud, dan hal ini tentunya tidak diinginkan."
   ]
  },
  {
   "cell_type": "markdown",
   "metadata": {},
   "source": [
    "## Eksplorasi Data: Memahami Data dengan Visual"
   ]
  },
  {
   "cell_type": "markdown",
   "metadata": {},
   "source": [
    "Selain dengan statistik, kita juga bisa melakukan eksplorasi data dalam bentuk visual. Dengan visualisasi kita dapat dengan mudah dan cepat dalam memahami data, bahkan dapat memberikan pemahaman yang lebih baik terkait hubungan setiap variabel/ features.\n",
    "\n",
    "Misalnya kita ingin melihat distribusi label dalam bentuk visual, dan jumlah pembelian saat weekend. Kita dapat memanfaatkan matplotlib library untuk membuat chart yang menampilkan perbandingan jumlah yang membeli (1) dan tidak membeli (0), serta perbandingan jumlah pembelian saat weekend. Berikut contoh kodenya:"
   ]
  },
  {
   "cell_type": "code",
   "execution_count": 7,
   "metadata": {
    "scrolled": true
   },
   "outputs": [
    {
     "data": {
      "image/png": "[encoded data removed]",
      "text/plain": [
       "<Figure size 864x360 with 2 Axes>"
      ]
     },
     "metadata": {
      "needs_background": "light"
     },
     "output_type": "display_data"
    }
   ],
   "source": [
    "# checking the Distribution of customers on Revenue\n",
    "plt.rcParams['figure.figsize'] = (12,5)\n",
    "plt.subplot(1, 2, 1)\n",
    "sns.countplot(dataset['Revenue'], palette = 'pastel')\n",
    "plt.title('Buy or Not', fontsize = 20)\n",
    "plt.xlabel('Revenue or not', fontsize = 14)\n",
    "plt.ylabel('count', fontsize = 14)\n",
    "\n",
    "# checking the Distribution of customers on Weekend\n",
    "plt.subplot(1, 2, 2)\n",
    "sns.countplot(dataset['Weekend'], palette = 'inferno')\n",
    "plt.title('Purchase on Weekends', fontsize = 20)\n",
    "plt.xlabel('Weekend or not', fontsize = 14)\n",
    "plt.ylabel('count', fontsize = 14)\n",
    "plt.show()"
   ]
  },
  {
   "cell_type": "code",
   "execution_count": 8,
   "metadata": {
    "scrolled": true
   },
   "outputs": [
    {
     "data": {
      "image/png": "[encoded data removed]",
      "text/plain": [
       "<Figure size 864x360 with 1 Axes>"
      ]
     },
     "metadata": {
      "needs_background": "light"
     },
     "output_type": "display_data"
    }
   ],
   "source": [
    "# visualizing the distribution of customers around the Region\n",
    "plt.hist(dataset['Region'] , color = 'lightblue')\n",
    "plt.title('Distribution of Customers', fontsize = 20)\n",
    "plt.xlabel('Region Codes', fontsize = 14)\n",
    "plt.ylabel('Count Users', fontsize = 14)\n",
    "plt.show()"
   ]
  },
  {
   "cell_type": "code",
   "execution_count": 9,
   "metadata": {
    "scrolled": true
   },
   "outputs": [
    {
     "data": {
      "image/png": "[encoded data removed]",
      "text/plain": [
       "<Figure size 864x360 with 1 Axes>"
      ]
     },
     "metadata": {
      "needs_background": "light"
     },
     "output_type": "display_data"
    }
   ],
   "source": [
    "sns.countplot(dataset['Region'])\n",
    "plt.show()"
   ]
  },
  {
   "cell_type": "markdown",
   "metadata": {},
   "source": [
    "## Data Pre-processing: Handling Missing Value - Menghitung Missing Values"
   ]
  },
  {
   "cell_type": "markdown",
   "metadata": {},
   "source": [
    "Setelah kita melakukan eksplorasi data, kita akan melanjutkan ke tahap data pre-processing. Seperti telah dijelaskan sebelumnya, raw data kita belum tentu bisa langsung digunakan untuk pemodelan. Jika kita memiliki banyak missing value, maka akan mengurangi performansi model dan juga beberapa algorithm machine learning tidak dapat memproses data dengan missing value. Oleh karena itu, kita perlu mengecek apakah terdapat missing value dalam data atau tidak. Jika tidak, maka kita tidak perlu melakukan apa-apa dan bisa melanjutkan ke tahap berikutnya. Jika ada, maka kita perlu melakukan treatment khusus untuk missing value ini."
   ]
  },
  {
   "cell_type": "code",
   "execution_count": 10,
   "metadata": {},
   "outputs": [
    {
     "name": "stdout",
     "output_type": "stream",
     "text": [
      "Checking missing value for each feature:\n",
      "Unnamed: 0                  0\n",
      "Administrative             14\n",
      "Administrative_Duration    14\n",
      "Informational              14\n",
      "Informational_Duration     14\n",
      "ProductRelated             14\n",
      "ProductRelated_Duration    14\n",
      "BounceRates                14\n",
      "ExitRates                  14\n",
      "PageValues                  0\n",
      "SpecialDay                  0\n",
      "Month                       0\n",
      "OperatingSystems            0\n",
      "Browser                     0\n",
      "Region                      0\n",
      "TrafficType                 0\n",
      "VisitorType                 0\n",
      "Weekend                     0\n",
      "Revenue                     0\n",
      "dtype: int64\n",
      "\n",
      "Counting total missing value:\n",
      "112\n"
     ]
    }
   ],
   "source": [
    "#checking missing value for each feature  \n",
    "print('Checking missing value for each feature:')\n",
    "print(dataset.isnull().sum())\n",
    "\n",
    "#Counting total missing value\n",
    "print('\\nCounting total missing value:')\n",
    "print(dataset.isnull().sum().sum())"
   ]
  },
  {
   "cell_type": "markdown",
   "metadata": {},
   "source": [
    "## Data Pre-processing: Handling Missing Value - Deleting Missing Values"
   ]
  },
  {
   "cell_type": "markdown",
   "metadata": {},
   "source": [
    "Ada beberapa metode yang dapat kita lakukan untuk menangani missing value. Salah satunya adalah dengan menghapus data dengan missing value tersebut. Metode ini dapat diterapkan jika tidak banyak missing value dalam data, sehingga walaupun data point ini dihapus, kita masih memiliki sejumlah data yang cukup untuk melatih model Machine Learning. Tetapi jika kita memiliki banyak missing value dan tersebar di setiap variabel, maka metode menghapus missing value tidak dapat digunakan. Kita akan kehilangan sejumlah data yang tentunya mempengaruhi performansi model. Kita bisa menghapus data point yang memiliki missing value dengan method `.dropna()` dari pandas library. Method `.dropna()` akan menghapus data point atau baris yang memiliki missing value."
   ]
  },
  {
   "cell_type": "code",
   "execution_count": 11,
   "metadata": {},
   "outputs": [
    {
     "name": "stdout",
     "output_type": "stream",
     "text": [
      "Ukuran dataset_clean: (12316, 19)\n"
     ]
    }
   ],
   "source": [
    "#Drop rows with missing value   \n",
    "dataset_clean = dataset.dropna()  \n",
    "print('Ukuran dataset_clean:', dataset_clean.shape) "
   ]
  },
  {
   "cell_type": "markdown",
   "metadata": {},
   "source": [
    "## Data Pre-processing: Handling Missing Value - Imputing Missing Values"
   ]
  },
  {
   "cell_type": "markdown",
   "metadata": {},
   "source": [
    "Kita bisa menggunakan metode impute missing value, yaitu mengisi record yang hilang ini dengan suatu nilai. Ada berbagai teknik dalam metode imputing, mulai dari yang paling sederhana yaitu mengisi missing value dengan nilai mean, median, modus, atau nilai konstan, sampai teknik paling advance yaitu dengan menggunakan nilai yang diestimasi oleh suatu predictive model. Untuk kasus ini, kita akan menggunakan imputing sederhana yaitu menggunakan nilai rataan atau mean.\n",
    "\n",
    "Imputing missing value sangat mudah dilakukan di Python, cukup memanfaatkan fungsi `.fillna()` dan `.mean()` dari Pandas, seperti berikut:"
   ]
  },
  {
   "cell_type": "code",
   "execution_count": 12,
   "metadata": {},
   "outputs": [
    {
     "name": "stdout",
     "output_type": "stream",
     "text": [
      "Before imputation:\n",
      "Unnamed: 0                  0\n",
      "Administrative             14\n",
      "Administrative_Duration    14\n",
      "Informational              14\n",
      "Informational_Duration     14\n",
      "ProductRelated             14\n",
      "ProductRelated_Duration    14\n",
      "BounceRates                14\n",
      "ExitRates                  14\n",
      "PageValues                  0\n",
      "SpecialDay                  0\n",
      "Month                       0\n",
      "OperatingSystems            0\n",
      "Browser                     0\n",
      "Region                      0\n",
      "TrafficType                 0\n",
      "VisitorType                 0\n",
      "Weekend                     0\n",
      "Revenue                     0\n",
      "dtype: int64\n",
      "112\n",
      "\n",
      "After imputation:\n",
      "Unnamed: 0                 0\n",
      "Administrative             0\n",
      "Administrative_Duration    0\n",
      "Informational              0\n",
      "Informational_Duration     0\n",
      "ProductRelated             0\n",
      "ProductRelated_Duration    0\n",
      "BounceRates                0\n",
      "ExitRates                  0\n",
      "PageValues                 0\n",
      "SpecialDay                 0\n",
      "Month                      0\n",
      "OperatingSystems           0\n",
      "Browser                    0\n",
      "Region                     0\n",
      "TrafficType                0\n",
      "VisitorType                0\n",
      "Weekend                    0\n",
      "Revenue                    0\n",
      "dtype: int64\n",
      "0\n"
     ]
    }
   ],
   "source": [
    "print(\"Before imputation:\")\n",
    "# Checking missing value for each feature  \n",
    "print(dataset.isnull().sum())\n",
    "# Counting total missing value  \n",
    "print(dataset.isnull().sum().sum())\n",
    "\n",
    "print(\"\\nAfter imputation:\")\n",
    "# Fill missing value with mean of feature value  \n",
    "dataset.fillna(dataset.mean(), inplace = True)\n",
    "# Checking missing value for each feature  \n",
    "print(dataset.isnull().sum())\n",
    "# Counting total missing value  \n",
    "print(dataset.isnull().sum().sum())"
   ]
  },
  {
   "cell_type": "markdown",
   "metadata": {},
   "source": [
    "Selanjutnya kita akan mencoba metode imputasi dengan menggunakan median."
   ]
  },
  {
   "cell_type": "code",
   "execution_count": 13,
   "metadata": {},
   "outputs": [
    {
     "name": "stdout",
     "output_type": "stream",
     "text": [
      "Before imputation:\n",
      "Unnamed: 0                  0\n",
      "Administrative             14\n",
      "Administrative_Duration    14\n",
      "Informational              14\n",
      "Informational_Duration     14\n",
      "ProductRelated             14\n",
      "ProductRelated_Duration    14\n",
      "BounceRates                14\n",
      "ExitRates                  14\n",
      "PageValues                  0\n",
      "SpecialDay                  0\n",
      "Month                       0\n",
      "OperatingSystems            0\n",
      "Browser                     0\n",
      "Region                      0\n",
      "TrafficType                 0\n",
      "VisitorType                 0\n",
      "Weekend                     0\n",
      "Revenue                     0\n",
      "dtype: int64\n",
      "Total Missing Values: 112\n",
      "\n",
      "After imputation:\n",
      "Unnamed: 0                 0\n",
      "Administrative             0\n",
      "Administrative_Duration    0\n",
      "Informational              0\n",
      "Informational_Duration     0\n",
      "ProductRelated             0\n",
      "ProductRelated_Duration    0\n",
      "BounceRates                0\n",
      "ExitRates                  0\n",
      "PageValues                 0\n",
      "SpecialDay                 0\n",
      "Month                      0\n",
      "OperatingSystems           0\n",
      "Browser                    0\n",
      "Region                     0\n",
      "TrafficType                0\n",
      "VisitorType                0\n",
      "Weekend                    0\n",
      "Revenue                    0\n",
      "dtype: int64\n",
      "Total Missing Values: 0\n"
     ]
    }
   ],
   "source": [
    "dataset1 = pd.read_csv('online_raw.csv')\n",
    "\n",
    "print(\"Before imputation:\")\n",
    "# Checking missing value for each feature  \n",
    "print(dataset1.isnull().sum())\n",
    "# Counting total missing value  \n",
    "print(f'Total Missing Values: {dataset1.isnull().sum().sum()}')\n",
    "\n",
    "print(\"\\nAfter imputation:\")\n",
    "# Fill missing value with median of feature value  \n",
    "dataset1.fillna(dataset1.median(), inplace = True)\n",
    "# Checking missing value for each feature  \n",
    "print(dataset1.isnull().sum())\n",
    "# Counting total missing value  \n",
    "print(f'Total Missing Values: {dataset1.isnull().sum().sum()}')"
   ]
  },
  {
   "cell_type": "markdown",
   "metadata": {},
   "source": [
    "## Data Preprocessing: Scaling"
   ]
  },
  {
   "cell_type": "markdown",
   "metadata": {},
   "source": [
    "Setelah berhasil menangani missing value, sekarang mari kita mempelajari tahapan preprocessing selanjutnya. Tampilkan kembali 5 dataset teratas dan deskripsi statistik dari dataset. Coba perhatikan, rentang nilai dari setiap feature cukup bervariasi. Misalnya, ProductRelated_Duration vs BounceRates.  ProductRelated_Duration memiliki rentang nilai mulai dari 0 - 5000; sedangkan BounceRates rentang nilainya 0 - 1. \n",
    "\n",
    "Beberapa machine learning seperti K-NN dan gradient descent mengharuskan semua variabel memiliki rentang nilai yang sama, karena jika tidak sama, feature dengan rentang nilai terbesar misalnya ProductRelated_Duration otomatis akan menjadi feature yang paling mendominasi dalam proses training/komputasi, sehingga model yang dihasilkan pun akan sangat bias. Oleh karena itu, sebelum memulai training model, kita terlebih dahulu perlu melakukan data rescaling ke dalam rentang 0 dan 1, sehingga semua feature berada dalam rentang nilai tersebut, yaitu nilai max = 1 dan nilai min = 0. Data rescaling ini dengan mudah dapat dilakukan di Python menggunakan .MinMaxScaler( ) dari Scikit-Learn library."
   ]
  },
  {
   "cell_type": "code",
   "execution_count": 14,
   "metadata": {},
   "outputs": [
    {
     "name": "stdout",
     "output_type": "stream",
     "text": [
      "                         min  max\n",
      "Administrative           0.0  1.0\n",
      "Administrative_Duration  0.0  1.0\n",
      "Informational            0.0  1.0\n",
      "Informational_Duration   0.0  1.0\n",
      "ProductRelated           0.0  1.0\n",
      "ProductRelated_Duration  0.0  1.0\n",
      "BounceRates              0.0  1.0\n",
      "ExitRates                0.0  1.0\n",
      "PageValues               0.0  1.0\n"
     ]
    }
   ],
   "source": [
    "from sklearn.preprocessing import MinMaxScaler  \n",
    "\n",
    "#Define MinMaxScaler as scaler  \n",
    "scaler = MinMaxScaler()\n",
    "\n",
    "#list all the feature that need to be scaled  \n",
    "scaling_column = ['Administrative','Administrative_Duration','Informational','Informational_Duration','ProductRelated','ProductRelated_Duration','BounceRates','ExitRates','PageValues']\n",
    "\n",
    "#Apply fit_transfrom to scale selected feature  \n",
    "dataset[scaling_column] = scaler.fit_transform(dataset[scaling_column])\n",
    "\n",
    "#Cheking min and max value of the scaling_column\n",
    "print(dataset[scaling_column].describe().T[['min','max']])"
   ]
  },
  {
   "cell_type": "markdown",
   "metadata": {},
   "source": [
    "Umumnya ketika menjalankan code scaling untuk dataset online_raw, pasti akan terjadi error karena proses scaling hanya bisa dilakukan untuk feature dengan tipe numerik, sedangkan dalam dataset online_raw, terdapat feature dengan tipe string atau karakter dan categorical, seperti Month, VisitorType, Region. Oleh karena itu, kita tidak dapat langsung menggunakan code di atas, tetapi kita perlu terlebih dahulu menyeleksi feature - feature dari dataset yang bertipe numerik."
   ]
  },
  {
   "cell_type": "markdown",
   "metadata": {},
   "source": [
    "## Data Pre-processing: Konversi string ke numerik"
   ]
  },
  {
   "cell_type": "markdown",
   "metadata": {},
   "source": [
    "Kita memiliki dua kolom yang bertipe object yang dinyatakan dalam tipe data str, yaitu kolom 'Month' dan 'VisitorType'. Karena setiap algoritma machine learning bekerja dengan menggunakan nilai numeris, maka kita perlu mengubah kolom dengan tipe pandas object atau str ini ke bertipe numeris. Untuk itu, kita list terlebih dahulu apa saja label unik di kedua kolom ini.\n",
    "\n",
    "Untuk merubah tipe pandas object ini ke numerik (int, float)"
   ]
  },
  {
   "cell_type": "code",
   "execution_count": 15,
   "metadata": {},
   "outputs": [
    {
     "name": "stdout",
     "output_type": "stream",
     "text": [
      "['Aug' 'Dec' 'Feb' 'Jul' 'June' 'Mar' 'May' 'Nov' 'Oct' 'Sep']\n",
      "[0 1 2 3 4 5 6 7 8 9]\n",
      "\n",
      "['New_Visitor' 'Other' 'Returning_Visitor']\n",
      "[0 1 2]\n"
     ]
    }
   ],
   "source": [
    "import numpy as np\n",
    "from sklearn.preprocessing import LabelEncoder\n",
    "\n",
    "# Convert feature/column 'Month'\n",
    "LE = LabelEncoder()\n",
    "dataset['Month'] = LE.fit_transform(dataset['Month'])\n",
    "print(LE.classes_)\n",
    "print(np.sort(dataset['Month'].unique()))\n",
    "print('')\n",
    "\n",
    "# Convert feature/column 'VisitorType'\n",
    "LE = LabelEncoder()\n",
    "dataset['VisitorType'] = LE.fit_transform(dataset['VisitorType'])\n",
    "print(LE.classes_)\n",
    "print(np.sort(dataset['VisitorType'].unique()))"
   ]
  },
  {
   "cell_type": "code",
   "execution_count": 16,
   "metadata": {},
   "outputs": [
    {
     "data": {
      "text/plain": [
       "array(['New_Visitor', 'Other', 'Returning_Visitor'], dtype=object)"
      ]
     },
     "execution_count": 16,
     "metadata": {},
     "output_type": "execute_result"
    }
   ],
   "source": [
    "LE.classes_"
   ]
  },
  {
   "cell_type": "markdown",
   "metadata": {},
   "source": [
    "Bisa dilihat bahwa LabelEncoder akan mengurutkan label secara otomatis secara alfabetik, posisi/indeks dari setiap label ini digunakan sebagai nilai numeris konversi pandas objek ke numeris (dalam hal ini tipe data int). Dengan demikian kita telah membuat dataset kita menjadi dataset bernilai numeris seluruhnya yang siap digunakan untuk pemodelan dengan algoritma machine learning tertentu."
   ]
  },
  {
   "cell_type": "markdown",
   "metadata": {},
   "source": [
    "# Pemodelan dengan Scikit-Learn"
   ]
  },
  {
   "cell_type": "markdown",
   "metadata": {},
   "source": [
    "Selanjutnya kita akan menggunakan  library Scikit - Learn. Scikit-learn adalah library untuk machine learning bagi para pengguna python yang memungkinkan kita melakukan berbagai pekerjaan dalam Data Science, seperti regresi (regression), klasifikasi (classification), pengelompokkan/penggugusan (clustering), data preprocessing, dimensionality reduction, dan model selection (pembandingan, validasi, dan pemilihan parameter maupun model).\n",
    "\n",
    "Ada beberapa library machine learning di Python seperti Keras, tetapi Scikit - Learn adalah yang paling basic sehingga jika kita menguasai scikit-learn, kita dapat dengan mudah mempelajari library machine learning yang lain."
   ]
  },
  {
   "cell_type": "markdown",
   "metadata": {},
   "source": [
    "## Features & Label"
   ]
  },
  {
   "cell_type": "markdown",
   "metadata": {},
   "source": [
    "Dalam dataset user online purchase, label target sudah diketahui, yaitu kolom Revenue yang bernilai 1 untuk user yang membeli dan 0 untuk yang tidak membeli, sehingga pemodelan yang dilakukan ini adalah klasifikasi. Nah, untuk melatih dataset menggunakan Scikit-Learn library, dataset perlu dipisahkan ke dalam Features dan Label/Target. Variabel Feature akan terdiri dari variabel yang dideklarasikan sebagai X dan [Revenue] adalah variabel Target yang dideklarasikan sebagai y. Gunakan fungsi drop() untuk menghapus kolom [Revenue] dari dataset."
   ]
  },
  {
   "cell_type": "code",
   "execution_count": 17,
   "metadata": {},
   "outputs": [
    {
     "name": "stdout",
     "output_type": "stream",
     "text": [
      "Shape of X: (12330, 18)\n",
      "Shape of y: (12330,)\n"
     ]
    }
   ],
   "source": [
    "# removing the target column Revenue from dataset and assigning to X\n",
    "X = dataset.drop(['Revenue'], axis = 1)\n",
    "\n",
    "# assigning the target column Revenue to y\n",
    "y = dataset['Revenue']\n",
    "\n",
    "# checking the shapes\n",
    "print(\"Shape of X:\", X.shape)\n",
    "print(\"Shape of y:\", y.shape)"
   ]
  },
  {
   "cell_type": "markdown",
   "metadata": {},
   "source": [
    "## Training dan Test Dataset"
   ]
  },
  {
   "cell_type": "markdown",
   "metadata": {},
   "source": [
    "Sebelum kita melatih model dengan suatu algorithm machine learning, seperti yang saya jelaskan sebelumnya, dataset perlu kita bagi ke dalam training dataset dan test dataset dengan perbandingan 80:20. 80% digunakan untuk training dan 20% untuk proses testing.\n",
    "\n",
    "Perbandingan lain yang biasanya digunakan adalah 75:25. Hal penting yang perlu diketahui adalah scikit-learn tidak dapat memproses dataframe dan hanya mengakomodasi format data tipe Array. Tetapi kalian tidak perlu khawatir, fungsi train_test_split( ) dari Scikit-Learn, otomatis mengubah dataset dari dataframe ke dalam format array. "
   ]
  },
  {
   "cell_type": "code",
   "execution_count": 18,
   "metadata": {},
   "outputs": [
    {
     "name": "stdout",
     "output_type": "stream",
     "text": [
      "Shape of X_train : (9864, 18)\n",
      "Shape of y_train : (9864,)\n",
      "Shape of X_test : (2466, 18)\n",
      "Shape of y_test : (2466,)\n"
     ]
    }
   ],
   "source": [
    "from sklearn.model_selection import train_test_split\n",
    "# splitting the X, and y\n",
    "X_train, X_test, y_train, y_test = train_test_split(X, y, test_size = 0.2, random_state = 0)\n",
    "# checking the shapes\n",
    "print(\"Shape of X_train :\", X_train.shape)\n",
    "print(\"Shape of y_train :\", y_train.shape)\n",
    "print(\"Shape of X_test :\", X_test.shape)\n",
    "print(\"Shape of y_test :\", y_test.shape)"
   ]
  },
  {
   "cell_type": "markdown",
   "metadata": {},
   "source": [
    "## Training Model: Fit"
   ]
  },
  {
   "cell_type": "markdown",
   "metadata": {},
   "source": [
    "Sekarang saatnya kita melatih model atau training. Dengan Scikit-Learn, proses ini menjadi sangat sederhana. Kita cukup memanggil nama algorithm yang akan kita gunakan, biasanya disebut classifier untuk problem klasifikasi, dan regressor untuk problem regresi. Sebagai contoh, kita akan menggunakan Decision Tree. Kita hanya perlu memanggil fungsi `DecisionTreeClassifier()` yang kita namakan “model”. Kemudian menggunakan fungsi `.fit()` dan X_train, y_train untuk melatih classifier tersebut dengan training dataset."
   ]
  },
  {
   "cell_type": "code",
   "execution_count": 19,
   "metadata": {},
   "outputs": [],
   "source": [
    "from sklearn.tree import DecisionTreeClassifier\n",
    "# Call the classifier\n",
    "model = DecisionTreeClassifier()\n",
    "# Fit the classifier to the training data\n",
    "model = model.fit(X_train, y_train)"
   ]
  },
  {
   "cell_type": "markdown",
   "metadata": {},
   "source": [
    "## Training Model: Predict"
   ]
  },
  {
   "cell_type": "markdown",
   "metadata": {},
   "source": [
    "Setelah model/classifier terbentuk, selanjutnya kita menggunakan model ini untuk memprediksi LABEL dari testing dataset (X_test), menggunakan fungsi `.predict()`. Fungsi ini akan mengembalikan hasil prediksi untuk setiap data point dari X_test dalam bentuk array. Proses ini kita kenal dengan TESTING."
   ]
  },
  {
   "cell_type": "code",
   "execution_count": 20,
   "metadata": {},
   "outputs": [
    {
     "name": "stdout",
     "output_type": "stream",
     "text": [
      "(2466,)\n"
     ]
    }
   ],
   "source": [
    "# Apply the classifier/model to the test data\n",
    "y_pred = model.predict(X_test)\n",
    "print(y_pred.shape)"
   ]
  },
  {
   "cell_type": "markdown",
   "metadata": {},
   "source": [
    "## Evaluasi Model Performance - Part 1"
   ]
  },
  {
   "cell_type": "markdown",
   "metadata": {},
   "source": [
    "Sekarang kita melanjutkan di tahap selanjutnya dari modelling yaitu evaluasi hasil model. Untuk evaluasi model performance, setiap algorithm mempunyai metrik yang berbeda-beda. Metrik paling sederhana untuk mengecek performansi model adalah accuracy.\n",
    "\n",
    "Kita bisa munculkan dengan fungsi `.score( )`. Tetapi, di banyak real problem, accuracy saja tidaklah cukup. Metode lain yang digunakan adalah dengan Confusion Matrix. Confusion Matrix merepresentasikan perbandingan prediksi dan real LABEL dari test dataset yang dihasilkan oleh algoritma ML."
   ]
  },
  {
   "cell_type": "markdown",
   "metadata": {},
   "source": [
    "## Evaluasi Model Performance - Part 2"
   ]
  },
  {
   "cell_type": "markdown",
   "metadata": {},
   "source": [
    "Untuk menampilkan confusion matrix cukup menggunakan fungsi confusion_matrix() dari Scikit-Learn."
   ]
  },
  {
   "cell_type": "code",
   "execution_count": 21,
   "metadata": {},
   "outputs": [
    {
     "name": "stdout",
     "output_type": "stream",
     "text": [
      "Training Accuracy : 1.0\n",
      "Testing Accuracy : 0.856853203568532\n",
      "\n",
      "Confusion matrix:\n",
      "[[1878  166]\n",
      " [ 187  235]]\n",
      "\n",
      "Classification report:\n",
      "              precision    recall  f1-score   support\n",
      "\n",
      "       False       0.91      0.92      0.91      2044\n",
      "        True       0.59      0.56      0.57       422\n",
      "\n",
      "    accuracy                           0.86      2466\n",
      "   macro avg       0.75      0.74      0.74      2466\n",
      "weighted avg       0.85      0.86      0.86      2466\n",
      "\n"
     ]
    }
   ],
   "source": [
    "from sklearn.metrics import confusion_matrix, classification_report\n",
    "\n",
    "# evaluating the model\n",
    "print('Training Accuracy :', model.score(X_train, y_train))\n",
    "print('Testing Accuracy :', model.score(X_test, y_test))\n",
    "\n",
    "# confusion matrix\n",
    "print('\\nConfusion matrix:')\n",
    "cm = confusion_matrix(y_test, y_pred)\n",
    "print(cm)\n",
    "\n",
    "# classification report\n",
    "print('\\nClassification report:')\n",
    "cr = classification_report(y_test, y_pred)\n",
    "print(cr)"
   ]
  },
  {
   "cell_type": "markdown",
   "metadata": {},
   "source": [
    "Berdasarkan confusion matrix, dapat mengukur metrik - metrik berikut :\n",
    "\n",
    "1. Accuracy = (TP + TN ) / (TP+FP+FN+TN)\n",
    "2. Precision = (TP) / (TP+FP)\n",
    "3. Recall = (TP) / (TP + FN)\n",
    "4. F1 Score = 2 * (Recall*Precission) / (Recall + Precission)"
   ]
  },
  {
   "cell_type": "markdown",
   "metadata": {},
   "source": [
    "## Pakai Metrik yang Mana?"
   ]
  },
  {
   "cell_type": "markdown",
   "metadata": {},
   "source": [
    "Jika dataset memiliki jumlah data False Negatif dan False Positif yang seimbang (Symmetric), maka bisa gunakan Accuracy, tetapi jika tidak seimbang, maka sebaiknya menggunakan F1-Score.\n",
    "\n",
    "Dalam suatu problem, jika lebih memilih False Positif lebih baik terjadi daripada False Negatif, misalnya: Dalam kasus Fraud/Scam, kecenderungan model mendeteksi transaksi sebagai fraud walaupun kenyataannya bukan, dianggap lebih baik, daripada transaksi tersebut tidak terdeteksi sebagai fraud tetapi ternyata fraud. Untuk problem ini sebaiknya menggunakan Recall.\n",
    "\n",
    "Sebaliknya, jika lebih menginginkan terjadinya True Negatif dan sangat tidak menginginkan terjadinya False Positif, sebaiknya menggunakan Precision.\n",
    "\n",
    "Contohnya adalah pada kasus klasifikasi email SPAM atau tidak. Banyak orang lebih memilih jika email yang sebenarnya SPAM namun diprediksi tidak SPAM (sehingga tetap ada pada kotak masuk email kita), daripada email yang sebenarnya bukan SPAM tapi diprediksi SPAM (sehingga tidak ada pada kotak masuk email).\n",
    "\n",
    "Selain itu, jika contohnya nilai recall dan F1-score yang kecil untuk class 1 (membeli) dan cukup tinggi untuk class 0 (tidak membeli) menunjukkan bahwa model cenderung salah mengklasifikasikan customer sebagai tidak membeli."
   ]
  },
  {
   "cell_type": "markdown",
   "metadata": {},
   "source": [
    "# Supervised Learning - Algorithm"
   ]
  },
  {
   "cell_type": "markdown",
   "metadata": {},
   "source": [
    "## Pendahuluan"
   ]
  },
  {
   "cell_type": "markdown",
   "metadata": {},
   "source": [
    "Setelah pemahaman dengan prosedur machine learning modelling. Selanjutnya materi akan membahas mengenai machine learning algorithm.\n",
    "\n",
    "Sebagai dasar, akan dipelajari beberapa algorithm machine learning yaitu Logistic Regression, dan Decision Tree untuk classification problem, dan Linear regression untuk regression problem.\n",
    "\n",
    "<img src='images/ml algorithm.png' align='left'/>"
   ]
  },
  {
   "cell_type": "markdown",
   "metadata": {},
   "source": [
    "## Classification - Logistic Regression"
   ]
  },
  {
   "cell_type": "markdown",
   "metadata": {},
   "source": [
    "Logistic Regression merupakan salah satu algoritma klasifikasi dasar yang cukup popular. Secara sederhana, Logistic regression hampir serupa dengan linear regression tetapi linear regression digunakan untuk Label atau Target Variable yang berupa numerik atau continuous value, sedangkan Logistic regression digunakan untuk Label atau Target yang berupa categorical/discrete value.\n",
    "\n",
    "Contoh continuous value adalah harga rumah, harga saham, suhu, dsb; dan contoh dari categorical value adalah prediksi SPAM or NOT SPAM (1 dan 0) atau prediksi customer SUBSCRIBE atau UNSUBSCRIBED (1 dan 0).\n",
    "\n",
    "Umumnya Logistic Regression dipakai untuk binary classification (1/0; Yes/No; True/False) problem, tetapi beberapa data scientist juga menggunakannya untuk multiclass classification problem. Logistic regression adalah salah satu linear classifier, oleh karena itu, Logistik regression juga menggunakan rumus atau fungsi yang sama seperti linear regression yaitu:\n",
    "\n",
    "<img src='images/fx1.png'>"
   ]
  },
  {
   "cell_type": "markdown",
   "metadata": {},
   "source": [
    "yang disebut Logit, dimana Variabel 𝑏₀, 𝑏₁, …, 𝑏ᵣ adalah koefisien regresi, dan 𝑥₁, …, 𝑥ᵣ adalah explanatory variable/variabel input atau feature.\n",
    "\n",
    "Output dari Logistic Regression adalah 1 atau 0; sehingga real value dari fungsi logit ini perlu ditransfer ke nilai di antara 1 dan 0 dengan menggunakan fungsi sigmoid.\n",
    "\n",
    "\n",
    "<img src='images/fx2.png' width='50%'/>\n"
   ]
  },
  {
   "cell_type": "markdown",
   "metadata": {},
   "source": [
    "<div style=\"border: 1px solid red; padding:10px\"> Jadi, jika output dari fungsi sigmoid bernilai lebih dari 0.5, maka data point diklasifikasi ke dalam label/class: 1 atau YES; dan kurang dari 0.5, akan diklasifikasikan ke dalam label/class: 0 atau NO. </div>"
   ]
  },
  {
   "cell_type": "markdown",
   "metadata": {},
   "source": [
    "Logistic Regression hanya dapat mengolah data dengan tipe numerik. Pada saat preparasi data, pastikan untuk mengecek tipe variabel yang ada dalam dataset dan pastikan semuanya adalah numerik, lakukan data transformasi jika diperlukan."
   ]
  },
  {
   "cell_type": "markdown",
   "metadata": {},
   "source": [
    "# Pemodelan Permasalahan Klasifikasi dengan Logistic Regression"
   ]
  },
  {
   "cell_type": "markdown",
   "metadata": {},
   "source": [
    "Pemodelan Logistic Regression dengan memanfaatkan Scikit-Learn sangatlah mudah. Dengan menggunakan dataset yang sama yaitu **online_raw**, dan setelah dataset dibagi ke dalam Training Set dan Test Set, cukup menggunakan modul linear_model dari Scikit-learn, dan memanggil fungsi `LogisticRegression()` yang diberi nama **logreg**.\n",
    "\n",
    "Kemudian, model yang sudah ditraining ini  bisa digunakan untuk memprediksi output/label dari test dataset sekaligus mengevaluasi model performance dengan fungsi `score()`, `confusion_matrix()` dan `classification_report()`."
   ]
  },
  {
   "cell_type": "code",
   "execution_count": 22,
   "metadata": {},
   "outputs": [
    {
     "name": "stdout",
     "output_type": "stream",
     "text": [
      "Training Accuracy : 0.8474249797242498\n",
      "Testing Accuracy : 0.8288726682887266\n",
      "\n",
      "Confusion matrix\n",
      "[[2042    2]\n",
      " [ 420    2]]\n",
      "\n",
      "Classification report\n",
      "              precision    recall  f1-score   support\n",
      "\n",
      "       False       0.83      1.00      0.91      2044\n",
      "        True       0.50      0.00      0.01       422\n",
      "\n",
      "    accuracy                           0.83      2466\n",
      "   macro avg       0.66      0.50      0.46      2466\n",
      "weighted avg       0.77      0.83      0.75      2466\n",
      "\n"
     ]
    },
    {
     "name": "stderr",
     "output_type": "stream",
     "text": [
      "D:\\dstools\\anaconda3\\lib\\site-packages\\sklearn\\linear_model\\_logistic.py:940: ConvergenceWarning: lbfgs failed to converge (status=1):\n",
      "STOP: TOTAL NO. of ITERATIONS REACHED LIMIT.\n",
      "\n",
      "Increase the number of iterations (max_iter) or scale the data as shown in:\n",
      "    https://scikit-learn.org/stable/modules/preprocessing.html\n",
      "Please also refer to the documentation for alternative solver options:\n",
      "    https://scikit-learn.org/stable/modules/linear_model.html#logistic-regression\n",
      "  extra_warning_msg=_LOGISTIC_SOLVER_CONVERGENCE_MSG)\n"
     ]
    }
   ],
   "source": [
    "from sklearn.linear_model import LogisticRegression\n",
    "from sklearn.metrics import confusion_matrix, classification_report\n",
    "\n",
    "# Call the classifier\n",
    "logreg = LogisticRegression()\n",
    "# Fit the classifier to the training data  \n",
    "logreg = logreg.fit(X_train,y_train)\n",
    "#Training Model: Predict \n",
    "y_pred = logreg.predict(X_test)\n",
    "\n",
    "#Evaluate Model Performance\n",
    "print('Training Accuracy :', logreg.score(X_train, y_train))\n",
    "print('Testing Accuracy :', logreg.score(X_test, y_test))  \n",
    "\n",
    "# confusion matrix\n",
    "print('\\nConfusion matrix')  \n",
    "cm = confusion_matrix(y_test, y_pred)  \n",
    "print(cm)\n",
    "\n",
    "# classification report  \n",
    "print('\\nClassification report')  \n",
    "cr = classification_report(y_test, y_pred)  \n",
    "print(cr)"
   ]
  },
  {
   "cell_type": "code",
   "execution_count": null,
   "metadata": {},
   "outputs": [],
   "source": []
  }
 ],
 "metadata": {
  "kernelspec": {
   "display_name": "Python 3",
   "language": "python",
   "name": "python3"
  },
  "language_info": {
   "codemirror_mode": {
    "name": "ipython",
    "version": 3
   },
   "file_extension": ".py",
   "mimetype": "text/x-python",
   "name": "python",
   "nbconvert_exporter": "python",
   "pygments_lexer": "ipython3",
   "version": "3.7.6"
  }
 },
 "nbformat": 4,
 "nbformat_minor": 4
}
