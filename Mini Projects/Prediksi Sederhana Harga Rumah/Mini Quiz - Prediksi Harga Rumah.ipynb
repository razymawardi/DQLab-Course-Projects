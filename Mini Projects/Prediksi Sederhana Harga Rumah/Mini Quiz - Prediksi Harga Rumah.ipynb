{
 "cells": [
  {
   "cell_type": "code",
   "execution_count": 1,
   "metadata": {
    "executionInfo": {
     "elapsed": 2684,
     "status": "ok",
     "timestamp": 1607596998371,
     "user": {
      "displayName": "razy mawardi",
      "photoUrl": "",
      "userId": "09382810520223821882"
     },
     "user_tz": -540
    },
    "id": "LuAa9Sm-_TiP"
   },
   "outputs": [],
   "source": [
    "# Membuat file \"harga_rumah.txt\"\n",
    "file = open(\"harga_rumah.txt\", \"w\")\n",
    "file.writelines(['tanah,bangunan,jarak_ke_pusat,harga\\n', '70,50,15,500\\n', '70,60,30,400\\n', '70,60,55,300\\n', '100,50,30,700\\n', '100,70,25,1000\\n', '100,70,50,650\\n', '120,100,20,2000\\n', '120,80,50,1200\\n', '150,100,50,1800\\n', '150,90,15,3000'])\n",
    "file.close()\n"
   ]
  },
  {
   "cell_type": "code",
   "execution_count": 2,
   "metadata": {
    "executionInfo": {
     "elapsed": 3193,
     "status": "ok",
     "timestamp": 1607596998910,
     "user": {
      "displayName": "razy mawardi",
      "photoUrl": "",
      "userId": "09382810520223821882"
     },
     "user_tz": -540
    },
    "id": "ipFj4Ywe-3T_"
   },
   "outputs": [],
   "source": [
    "# STEP 1: \n",
    "# Baca file \"harga_rumah.txt\"\n",
    "file_harga_rumah = open(\"harga_rumah.txt\", \"r\")\n",
    "data_harga_rumah = file_harga_rumah.readlines()\n",
    "file_harga_rumah.close()"
   ]
  },
  {
   "cell_type": "code",
   "execution_count": 3,
   "metadata": {
    "colab": {
     "base_uri": "https://localhost:8080/"
    },
    "executionInfo": {
     "elapsed": 3177,
     "status": "ok",
     "timestamp": 1607596998912,
     "user": {
      "displayName": "razy mawardi",
      "photoUrl": "",
      "userId": "09382810520223821882"
     },
     "user_tz": -540
    },
    "id": "J5xEfYAX_Enh",
    "outputId": "913af28e-ae29-4cd2-ab4b-4c50122fd836"
   },
   "outputs": [
    {
     "name": "stdout",
     "output_type": "stream",
     "text": [
      "['tanah,bangunan,jarak_ke_pusat,harga\\n', '70,50,15,500\\n', '70,60,30,400\\n', '70,60,55,300\\n', '100,50,30,700\\n', '100,70,25,1000\\n', '100,70,50,650\\n', '120,100,20,2000\\n', '120,80,50,1200\\n', '150,100,50,1800\\n', '150,90,15,3000']\n"
     ]
    }
   ],
   "source": [
    "print(data_harga_rumah)"
   ]
  },
  {
   "cell_type": "code",
   "execution_count": 4,
   "metadata": {
    "colab": {
     "base_uri": "https://localhost:8080/"
    },
    "executionInfo": {
     "elapsed": 3156,
     "status": "ok",
     "timestamp": 1607596998914,
     "user": {
      "displayName": "razy mawardi",
      "photoUrl": "",
      "userId": "09382810520223821882"
     },
     "user_tz": -540
    },
    "id": "k5HagA1-BmOR",
    "outputId": "1fcd955b-f8cd-4f0d-c9b1-a77556560e41"
   },
   "outputs": [
    {
     "name": "stdout",
     "output_type": "stream",
     "text": [
      "[{'tanah': '70', 'bangunan': '50', 'jarak_ke_pusat': '15', 'harga': '500'}, {'tanah': '70', 'bangunan': '60', 'jarak_ke_pusat': '30', 'harga': '400'}, {'tanah': '70', 'bangunan': '60', 'jarak_ke_pusat': '55', 'harga': '300'}, {'tanah': '100', 'bangunan': '50', 'jarak_ke_pusat': '30', 'harga': '700'}, {'tanah': '100', 'bangunan': '70', 'jarak_ke_pusat': '25', 'harga': '1000'}, {'tanah': '100', 'bangunan': '70', 'jarak_ke_pusat': '50', 'harga': '650'}, {'tanah': '120', 'bangunan': '100', 'jarak_ke_pusat': '20', 'harga': '2000'}, {'tanah': '120', 'bangunan': '80', 'jarak_ke_pusat': '50', 'harga': '1200'}, {'tanah': '150', 'bangunan': '100', 'jarak_ke_pusat': '50', 'harga': '1800'}, {'tanah': '150', 'bangunan': '90', 'jarak_ke_pusat': '15', 'harga': '3000'}]\n"
     ]
    }
   ],
   "source": [
    "# Buat list of dict dengan nama harga rumah\n",
    "key_harga_rumah = data_harga_rumah[0].replace(\"\\n\",\"\").split(\",\")\n",
    "harga_rumah = []\n",
    "for baris in data_harga_rumah[1:]:\n",
    "\tbaris_harga_rumah = baris.replace(\"\\n\",\"\").split(\",\")\n",
    "\tdict_harga_rumah = dict()\n",
    "\tfor i in range(len(baris_harga_rumah)):\n",
    "\t\tdict_harga_rumah[key_harga_rumah[i]] = baris_harga_rumah[i]\n",
    "\tharga_rumah.append(dict_harga_rumah)\n",
    "print(harga_rumah)"
   ]
  },
  {
   "cell_type": "code",
   "execution_count": 5,
   "metadata": {
    "executionInfo": {
     "elapsed": 3145,
     "status": "ok",
     "timestamp": 1607596998916,
     "user": {
      "displayName": "razy mawardi",
      "photoUrl": "",
      "userId": "09382810520223821882"
     },
     "user_tz": -540
    },
    "id": "y1DE-Ts0H4BT"
   },
   "outputs": [],
   "source": [
    "# STEP 2:\n",
    "# Buat fungsi  get_all_specified_attribute yang menerima parameter list_of_dictionary \n",
    "# (tipe data list yang berisikan sekumpulan tipe data dictionary) dan specified_key \n",
    "# (tipe data string). Fungsi akan mengembalikan sebuah list yang berisikan seluruh \n",
    "# atribut dengan kunci (key) specified_key. \n",
    "def get_all_specified_attributes(list_of_dictionary, specified_key):\n",
    "\tlist_attributes = []\n",
    "\tfor data in list_of_dictionary:\n",
    "\t\tattribute = data[specified_key]\n",
    "\t\tlist_attributes.append(attribute)\n",
    "\treturn list_attributes"
   ]
  },
  {
   "cell_type": "code",
   "execution_count": 6,
   "metadata": {
    "executionInfo": {
     "elapsed": 3135,
     "status": "ok",
     "timestamp": 1607596998919,
     "user": {
      "displayName": "razy mawardi",
      "photoUrl": "",
      "userId": "09382810520223821882"
     },
     "user_tz": -540
    },
    "id": "PLEogf62NyK9"
   },
   "outputs": [],
   "source": [
    "# STEP 3: \n",
    "# Buat fungsi fungsi min_value yang menerima parameter list_attributes (berupa \n",
    "# tipe data list) dan mengembalikan nilai terkecil dalam list_attributes \n",
    "def min_value(list_attributes):\n",
    "\tmin_attribute = 9999\n",
    "\tfor attr in list_attributes:\n",
    "\t\tif int(attr) < min_attribute:\n",
    "\t\t\tmin_attribute = int(attr)\n",
    "\treturn min_attribute"
   ]
  },
  {
   "cell_type": "code",
   "execution_count": 7,
   "metadata": {
    "executionInfo": {
     "elapsed": 1687,
     "status": "ok",
     "timestamp": 1607597001978,
     "user": {
      "displayName": "razy mawardi",
      "photoUrl": "",
      "userId": "09382810520223821882"
     },
     "user_tz": -540
    },
    "id": "0zY4l_CFP2nf"
   },
   "outputs": [],
   "source": [
    "# Buat fungsi dan max_value yang menerima parameter list_attribute dan \n",
    "# mengembalikan nilai terbesar dalam list_attributes.\t\n",
    "def max_value(list_attribute):\n",
    "\tmax_attribute = -9999\n",
    "\tfor attr in list_attribute:\n",
    "\t\tif int(attr) > max_attribute:\n",
    "\t\t\tmax_attribute = int(attr)\n",
    "\treturn max_attribute"
   ]
  },
  {
   "cell_type": "code",
   "execution_count": 8,
   "metadata": {
    "executionInfo": {
     "elapsed": 1393,
     "status": "ok",
     "timestamp": 1607597475106,
     "user": {
      "displayName": "razy mawardi",
      "photoUrl": "",
      "userId": "09382810520223821882"
     },
     "user_tz": -540
    },
    "id": "TYiehAGuQUs2"
   },
   "outputs": [],
   "source": [
    "# STEP 4: \n",
    "# Buat fungsi transform_attribute yang menerima parameter attr (sebuah \n",
    "# bilangan), max_attr (sebuah bilangan) dan min_attr (sebuah bilangan) \n",
    "# yang mengembalikan nilai transformasi dari sebuah attribute.\n",
    "def transform_attribute(attr, max_attr, min_attr):\n",
    "\tnilai_transformasi = (attr - min_attr) / (max_attr - min_attr)\n",
    "\treturn nilai_transformasi"
   ]
  },
  {
   "cell_type": "code",
   "execution_count": 9,
   "metadata": {
    "executionInfo": {
     "elapsed": 1597,
     "status": "ok",
     "timestamp": 1607599272916,
     "user": {
      "displayName": "razy mawardi",
      "photoUrl": "",
      "userId": "09382810520223821882"
     },
     "user_tz": -540
    },
    "id": "l2khJ--XRdxK"
   },
   "outputs": [],
   "source": [
    "# STEP 5:\n",
    "# Buat fungsi data_transformation yang menerima parameter list_of_dictionary \n",
    "# (sebuah list yang berisikan tipe data dictionary) dan list_attribute_names \n",
    "# (sebuah list yang berisikan tipe data string) mengembalikan hasil \n",
    "# transformasi data dari list_of_dictionary berdasarkan list_attribute_names \n",
    "# dan attr_info telah dispesifikasikan.\n",
    "def data_transformation(list_of_dictionary, list_attribute_names):\n",
    "\tattr_info = {}\n",
    "\tfor attr_name in list_attribute_names:\n",
    "\t\tspecified_attributes = get_all_specified_attributes(list_of_dictionary, attr_name)\n",
    "\t\tmax_attr = max_value(specified_attributes)\n",
    "\t\tmin_attr = min_value(specified_attributes)\n",
    "\t\tattr_info[attr_name] = {'max': max_attr, 'min': min_attr}\n",
    "\t\tdata_idx = 0\n",
    "\t\twhile(data_idx < len(list_of_dictionary)):\n",
    "\t\t\tlist_of_dictionary[data_idx][attr_name] = transform_attribute(int(list_of_dictionary[data_idx][attr_name]), max_attr, min_attr)\n",
    "\t\t\tdata_idx += 1\n",
    "\treturn list_of_dictionary, attr_info"
   ]
  },
  {
   "cell_type": "code",
   "execution_count": 10,
   "metadata": {
    "executionInfo": {
     "elapsed": 1167,
     "status": "ok",
     "timestamp": 1607599965726,
     "user": {
      "displayName": "razy mawardi",
      "photoUrl": "",
      "userId": "09382810520223821882"
     },
     "user_tz": -540
    },
    "id": "ZeaMpFS9Xv8_"
   },
   "outputs": [],
   "source": [
    "# STEP 6:\n",
    "# Berdasarkan data baru dan attr_info ini, buat fungsi transform_data yang\n",
    "# menerima parameter data dan attr_info dan mengembalikan nilai atribut \n",
    "# dari data baru yang telah ditransformasikan.\n",
    "def transform_data(data, attr_info):\n",
    "\tfor key_name in data.keys():\n",
    "\t\tdata[key_name] = (data[key_name] - attr_info[key_name]['min']) / (\n",
    "\t\t                  attr_info[key_name]['max'] - attr_info[key_name]['min'])\n",
    "\treturn data"
   ]
  },
  {
   "cell_type": "code",
   "execution_count": 11,
   "metadata": {
    "executionInfo": {
     "elapsed": 1703,
     "status": "ok",
     "timestamp": 1607600701890,
     "user": {
      "displayName": "razy mawardi",
      "photoUrl": "",
      "userId": "09382810520223821882"
     },
     "user_tz": -540
    },
    "id": "vd-fp1cvakzn"
   },
   "outputs": [],
   "source": [
    "# STEP 7:\n",
    "# Buat fungsi yang digunakan untuk sistem prediksi harga berdasarkan \n",
    "# nilai kemiripan atribut, yaitu argument input data dan list_of_data!\n",
    "def abs_value(value):\n",
    "\tif value < 0:\n",
    "\t\treturn -value\n",
    "\telse:\n",
    "\t\treturn value\n",
    "def price_based_on_similarity(data, list_of_data):\n",
    "\tprediksi_harga = 0\n",
    "\tperbedaan_terkecil = 999\n",
    "\tfor data_point in list_of_data:\n",
    "\t\tperbedaan= abs_value(data['tanah'] - data_point['tanah'])\n",
    "\t\tperbedaan+= abs_value(data['bangunan'] - data_point['bangunan'])\n",
    "\t\tperbedaan+= abs_value(data['jarak_ke_pusat'] - data_point['jarak_ke_pusat'])\n",
    "\t\tif perbedaan < perbedaan_terkecil:\n",
    "\t\t\tprediksi_harga = data_point['harga']\n",
    "\t\t\tperbedaan_terkecil = perbedaan\n",
    "\treturn prediksi_harga\n"
   ]
  },
  {
   "cell_type": "code",
   "execution_count": 12,
   "metadata": {
    "colab": {
     "base_uri": "https://localhost:8080/"
    },
    "executionInfo": {
     "elapsed": 1216,
     "status": "ok",
     "timestamp": 1607601080357,
     "user": {
      "displayName": "razy mawardi",
      "photoUrl": "",
      "userId": "09382810520223821882"
     },
     "user_tz": -540
    },
    "id": "3lit8Gfnd_on",
    "outputId": "342d1b4c-def6-4179-ba6c-f1dd7e51e9bc"
   },
   "outputs": [
    {
     "name": "stdout",
     "output_type": "stream",
     "text": [
      "Prediksi harga rumah:  1200\n"
     ]
    }
   ],
   "source": [
    "# STEP 8:\n",
    "# Hitung harga rumah yang telah ditransformasikan ke dalam variabel \n",
    "# harga_rumah berikut dengan atributnya attr_info\n",
    "harga_rumah, attr_info = data_transformation(harga_rumah,['tanah','bangunan','jarak_ke_pusat'])\n",
    "# Gunakan variabel data untuk memprediksi harga rumah\n",
    "data = {'tanah': 110, 'bangunan': 80, 'jarak_ke_pusat': 35}\n",
    "# Transformasikan data tersebut dengan dengan menggunakan attr_info yang telah \n",
    "# diperoleh yang kembali disimpan ke variabel data.\n",
    "data = transform_data(data, attr_info)\n",
    "# Hitunglah prediksi harga dari variabel data tersebut.\n",
    "harga = price_based_on_similarity(data, harga_rumah)\n",
    "print(\"Prediksi harga rumah: \", harga)"
   ]
  },
  {
   "cell_type": "code",
   "execution_count": null,
   "metadata": {
    "id": "sIoqELg4eAOX"
   },
   "outputs": [],
   "source": []
  }
 ],
 "metadata": {
  "colab": {
   "authorship_tag": "ABX9TyNxqQ3SqyWOrAFgLdaSEgWi",
   "collapsed_sections": [],
   "name": "Mini Quiz - Prediksi Harga Rumah.ipynb",
   "provenance": []
  },
  "kernelspec": {
   "display_name": "Python 3",
   "language": "python",
   "name": "python3"
  },
  "language_info": {
   "codemirror_mode": {
    "name": "ipython",
    "version": 3
   },
   "file_extension": ".py",
   "mimetype": "text/x-python",
   "name": "python",
   "nbconvert_exporter": "python",
   "pygments_lexer": "ipython3",
   "version": "3.7.6"
  }
 },
 "nbformat": 4,
 "nbformat_minor": 1
}
